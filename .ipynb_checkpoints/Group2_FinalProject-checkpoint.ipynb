{
 "cells": [
  {
   "cell_type": "markdown",
   "metadata": {},
   "source": [
    "# Introduction to Machine Learning and AI"
   ]
  },
  {
   "cell_type": "markdown",
   "metadata": {},
   "source": [
    "# Final-Project ：Thinking about Purchasing Stock  Case Study"
   ]
  },
  {
   "cell_type": "markdown",
   "metadata": {},
   "source": [
    "# Group 2 : Qi Zhang && Xinmeng Liu"
   ]
  },
  {
   "cell_type": "markdown",
   "metadata": {},
   "source": [
    "## Import relevant packages"
   ]
  },
  {
   "cell_type": "code",
   "execution_count": 17,
   "metadata": {},
   "outputs": [],
   "source": [
    "import pandas as pd\n",
    "import numpy as np\n",
    "import sklearn as sk\n",
    "import matplotlib.pyplot as plt\n",
    "import seaborn as sn\n",
    "plt.style.use('ggplot')\n",
    "from sklearn.impute import SimpleImputer"
   ]
  },
  {
   "cell_type": "markdown",
   "metadata": {},
   "source": [
    "## Import the data set"
   ]
  },
  {
   "cell_type": "code",
   "execution_count": 9,
   "metadata": {
    "scrolled": false
   },
   "outputs": [],
   "source": [
    "FILE1 = \"csv_file\\Apple.csv\"\n",
    "FILE2 = \"csv_file\\Microsoft.csv\"\n",
    "df_apple = pd.read_csv(FILE1)\n",
    "df_Microsoft = pd.read_csv(FILE2)"
   ]
  },
  {
   "cell_type": "markdown",
   "metadata": {},
   "source": [
    "## Data Cleansing"
   ]
  },
  {
   "cell_type": "code",
   "execution_count": 10,
   "metadata": {},
   "outputs": [
    {
     "name": "stdout",
     "output_type": "stream",
     "text": [
      "Date         False\n",
      "Open         False\n",
      "High         False\n",
      "Low          False\n",
      "Close        False\n",
      "Adj Close    False\n",
      "Volume       False\n",
      "dtype: bool\n",
      "Date         False\n",
      "Open         False\n",
      "High         False\n",
      "Low          False\n",
      "Close        False\n",
      "Adj Close    False\n",
      "Volume       False\n",
      "dtype: bool\n"
     ]
    }
   ],
   "source": [
    "print(df_apple.isnull().any()) \n",
    "print(df_Microsoft.isnull().any()) \n",
    "# No value is missing in these 2 data sets"
   ]
  },
  {
   "cell_type": "code",
   "execution_count": 11,
   "metadata": {},
   "outputs": [],
   "source": [
    "df_apple = df_apple[df_apple[\"Date\"].str.contains(\"2020\") == False]\n",
    "df_Microsoft = df_Microsoft[df_Microsoft[\"Date\"].str.contains(\"2020\") == False]\n",
    "# The 2020 data is not needed at all due to COVID-19 impacts."
   ]
  },
  {
   "cell_type": "markdown",
   "metadata": {},
   "source": [
    "### The basic info of Apple stock"
   ]
  },
  {
   "cell_type": "code",
   "execution_count": 15,
   "metadata": {},
   "outputs": [
    {
     "name": "stdout",
     "output_type": "stream",
     "text": [
      "<class 'pandas.core.frame.DataFrame'>\n",
      "Int64Index: 10248 entries, 0 to 10500\n",
      "Data columns (total 7 columns):\n",
      " #   Column     Non-Null Count  Dtype  \n",
      "---  ------     --------------  -----  \n",
      " 0   Date       10248 non-null  object \n",
      " 1   Open       10248 non-null  float64\n",
      " 2   High       10248 non-null  float64\n",
      " 3   Low        10248 non-null  float64\n",
      " 4   Close      10248 non-null  float64\n",
      " 5   Adj Close  10248 non-null  float64\n",
      " 6   Volume     10248 non-null  int64  \n",
      "dtypes: float64(5), int64(1), object(1)\n",
      "memory usage: 640.5+ KB\n",
      "None\n",
      "               Open          High           Low         Close     Adj Close  \\\n",
      "count  10248.000000  10248.000000  10248.000000  10248.000000  10248.000000   \n",
      "mean      13.199479     13.339672     13.061867     13.206506     12.570622   \n",
      "std       30.388313     30.738308     30.062666     30.418153     30.107344   \n",
      "min        0.049665      0.049665      0.049107      0.049107      0.038276   \n",
      "25%        0.276786      0.283549      0.269208      0.276786      0.231130   \n",
      "50%        0.453437      0.462054      0.444911      0.453125      0.374543   \n",
      "75%       12.492678     12.591964     12.394285     12.515179     10.685858   \n",
      "max      182.630005    182.940002    179.119995    182.009995    181.259933   \n",
      "\n",
      "             Volume  \n",
      "count  1.024800e+04  \n",
      "mean   3.342945e+08  \n",
      "std    3.414985e+08  \n",
      "min    0.000000e+00  \n",
      "25%    1.238944e+08  \n",
      "50%    2.226140e+08  \n",
      "75%    4.182024e+08  \n",
      "max    7.421641e+09  \n",
      "         Date      Open      High       Low     Close  Adj Close     Volume\n",
      "0  1980-12-12  0.128348  0.128906  0.128348  0.128348   0.100039  469033600\n",
      "1  1980-12-15  0.122210  0.122210  0.121652  0.121652   0.094820  175884800\n",
      "2  1980-12-16  0.113281  0.113281  0.112723  0.112723   0.087861  105728000\n",
      "3  1980-12-17  0.115513  0.116071  0.115513  0.115513   0.090035   86441600\n",
      "4  1980-12-18  0.118862  0.119420  0.118862  0.118862   0.092646   73449600\n",
      "               Open      High       Low     Close  Adj Close    Volume\n",
      "Open       1.000000  0.999952  0.999941  0.999869   0.999482 -0.184787\n",
      "High       0.999952  1.000000  0.999932  0.999938   0.999584 -0.184237\n",
      "Low        0.999941  0.999932  1.000000  0.999939   0.999535 -0.185668\n",
      "Close      0.999869  0.999938  0.999939  1.000000   0.999625 -0.184960\n",
      "Adj Close  0.999482  0.999584  0.999535  0.999625   1.000000 -0.187985\n",
      "Volume    -0.184787 -0.184237 -0.185668 -0.184960  -0.187985  1.000000\n",
      "Index(['Date', 'Open', 'High', 'Low', 'Close', 'Adj Close', 'Volume'], dtype='object')\n"
     ]
    }
   ],
   "source": [
    "print(df_apple.info())\n",
    "print(df_apple.describe())\n",
    "print(df_apple.head())\n",
    "print(df_apple.corr())\n",
    "print(df_apple.columns)"
   ]
  },
  {
   "cell_type": "markdown",
   "metadata": {},
   "source": [
    "### The basic info of Microsoft stock"
   ]
  },
  {
   "cell_type": "code",
   "execution_count": 16,
   "metadata": {},
   "outputs": [
    {
     "name": "stdout",
     "output_type": "stream",
     "text": [
      "<class 'pandas.core.frame.DataFrame'>\n",
      "Int64Index: 10248 entries, 0 to 10500\n",
      "Data columns (total 7 columns):\n",
      " #   Column     Non-Null Count  Dtype  \n",
      "---  ------     --------------  -----  \n",
      " 0   Date       10248 non-null  object \n",
      " 1   Open       10248 non-null  float64\n",
      " 2   High       10248 non-null  float64\n",
      " 3   Low        10248 non-null  float64\n",
      " 4   Close      10248 non-null  float64\n",
      " 5   Adj Close  10248 non-null  float64\n",
      " 6   Volume     10248 non-null  int64  \n",
      "dtypes: float64(5), int64(1), object(1)\n",
      "memory usage: 640.5+ KB\n",
      "None\n",
      "               Open          High           Low         Close     Adj Close  \\\n",
      "count  10248.000000  10248.000000  10248.000000  10248.000000  10248.000000   \n",
      "mean      13.199479     13.339672     13.061867     13.206506     12.570622   \n",
      "std       30.388313     30.738308     30.062666     30.418153     30.107344   \n",
      "min        0.049665      0.049665      0.049107      0.049107      0.038276   \n",
      "25%        0.276786      0.283549      0.269208      0.276786      0.231130   \n",
      "50%        0.453437      0.462054      0.444911      0.453125      0.374543   \n",
      "75%       12.492678     12.591964     12.394285     12.515179     10.685858   \n",
      "max      182.630005    182.940002    179.119995    182.009995    181.259933   \n",
      "\n",
      "             Volume  \n",
      "count  1.024800e+04  \n",
      "mean   3.342945e+08  \n",
      "std    3.414985e+08  \n",
      "min    0.000000e+00  \n",
      "25%    1.238944e+08  \n",
      "50%    2.226140e+08  \n",
      "75%    4.182024e+08  \n",
      "max    7.421641e+09  \n",
      "         Date      Open      High       Low     Close  Adj Close     Volume\n",
      "0  1980-12-12  0.128348  0.128906  0.128348  0.128348   0.100039  469033600\n",
      "1  1980-12-15  0.122210  0.122210  0.121652  0.121652   0.094820  175884800\n",
      "2  1980-12-16  0.113281  0.113281  0.112723  0.112723   0.087861  105728000\n",
      "3  1980-12-17  0.115513  0.116071  0.115513  0.115513   0.090035   86441600\n",
      "4  1980-12-18  0.118862  0.119420  0.118862  0.118862   0.092646   73449600\n",
      "               Open      High       Low     Close  Adj Close    Volume\n",
      "Open       1.000000  0.999952  0.999941  0.999869   0.999482 -0.184787\n",
      "High       0.999952  1.000000  0.999932  0.999938   0.999584 -0.184237\n",
      "Low        0.999941  0.999932  1.000000  0.999939   0.999535 -0.185668\n",
      "Close      0.999869  0.999938  0.999939  1.000000   0.999625 -0.184960\n",
      "Adj Close  0.999482  0.999584  0.999535  0.999625   1.000000 -0.187985\n",
      "Volume    -0.184787 -0.184237 -0.185668 -0.184960  -0.187985  1.000000\n",
      "Index(['Date', 'Open', 'High', 'Low', 'Close', 'Adj Close', 'Volume'], dtype='object')\n"
     ]
    }
   ],
   "source": [
    "print(df_apple.info())\n",
    "print(df_apple.describe())\n",
    "print(df_apple.head())\n",
    "print(df_apple.corr())\n",
    "print(df_apple.columns)"
   ]
  },
  {
   "cell_type": "markdown",
   "metadata": {},
   "source": [
    "### check the correlations through heatmap "
   ]
  },
  {
   "cell_type": "code",
   "execution_count": 21,
   "metadata": {},
   "outputs": [
    {
     "data": {
      "image/png": "[encoded data removed]",
      "text/plain": [
       "<Figure size 432x288 with 2 Axes>"
      ]
     },
     "metadata": {
      "needs_background": "light"
     },
     "output_type": "display_data"
    }
   ],
   "source": [
    "dataplot=sn.heatmap(df_apple.corr(),cmap='YlGnBu',annot=True)"
   ]
  },
  {
   "cell_type": "code",
   "execution_count": 20,
   "metadata": {},
   "outputs": [
    {
     "data": {
      "image/png": "[encoded data removed]",
      "text/plain": [
       "<Figure size 432x288 with 2 Axes>"
      ]
     },
     "metadata": {
      "needs_background": "light"
     },
     "output_type": "display_data"
    }
   ],
   "source": [
    "dataplot=sn.heatmap(df_Microsoft.corr(),cmap='YlGnBu',annot=True)"
   ]
  },
  {
   "cell_type": "markdown",
   "metadata": {},
   "source": [
    "# Analysis"
   ]
  },
  {
   "cell_type": "markdown",
   "metadata": {},
   "source": [
    "## Profit analysis"
   ]
  },
  {
   "cell_type": "code",
   "execution_count": 75,
   "metadata": {},
   "outputs": [
    {
     "name": "stderr",
     "output_type": "stream",
     "text": [
      "C:\\Users\\Marsy\\AppData\\Local\\Temp\\ipykernel_1844\\3228301500.py:11: SettingWithCopyWarning: \n",
      "A value is trying to be set on a copy of a slice from a DataFrame\n",
      "\n",
      "See the caveats in the documentation: https://pandas.pydata.org/pandas-docs/stable/user_guide/indexing.html#returning-a-view-versus-a-copy\n",
      "  temp[\"profitable\"].loc[temp[\"profitable\"] > 0] = 1\n"
     ]
    },
    {
     "data": {
      "text/html": [
       "<div>\n",
       "<style scoped>\n",
       "    .dataframe tbody tr th:only-of-type {\n",
       "        vertical-align: middle;\n",
       "    }\n",
       "\n",
       "    .dataframe tbody tr th {\n",
       "        vertical-align: top;\n",
       "    }\n",
       "\n",
       "    .dataframe thead th {\n",
       "        text-align: right;\n",
       "    }\n",
       "</style>\n",
       "<table border=\"1\" class=\"dataframe\">\n",
       "  <thead>\n",
       "    <tr style=\"text-align: right;\">\n",
       "      <th></th>\n",
       "      <th>Date</th>\n",
       "      <th>Open</th>\n",
       "      <th>Close</th>\n",
       "      <th>Volume</th>\n",
       "      <th>profitable</th>\n",
       "    </tr>\n",
       "  </thead>\n",
       "  <tbody>\n",
       "    <tr>\n",
       "      <th>0</th>\n",
       "      <td>1980-12-12</td>\n",
       "      <td>0.128348</td>\n",
       "      <td>0.128348</td>\n",
       "      <td>469033600</td>\n",
       "      <td>0.000000</td>\n",
       "    </tr>\n",
       "    <tr>\n",
       "      <th>1</th>\n",
       "      <td>1980-12-15</td>\n",
       "      <td>0.122210</td>\n",
       "      <td>0.121652</td>\n",
       "      <td>175884800</td>\n",
       "      <td>1.000000</td>\n",
       "    </tr>\n",
       "    <tr>\n",
       "      <th>2</th>\n",
       "      <td>1980-12-16</td>\n",
       "      <td>0.113281</td>\n",
       "      <td>0.112723</td>\n",
       "      <td>105728000</td>\n",
       "      <td>1.000000</td>\n",
       "    </tr>\n",
       "    <tr>\n",
       "      <th>3</th>\n",
       "      <td>1980-12-17</td>\n",
       "      <td>0.115513</td>\n",
       "      <td>0.115513</td>\n",
       "      <td>86441600</td>\n",
       "      <td>0.000000</td>\n",
       "    </tr>\n",
       "    <tr>\n",
       "      <th>4</th>\n",
       "      <td>1980-12-18</td>\n",
       "      <td>0.118862</td>\n",
       "      <td>0.118862</td>\n",
       "      <td>73449600</td>\n",
       "      <td>0.000000</td>\n",
       "    </tr>\n",
       "    <tr>\n",
       "      <th>...</th>\n",
       "      <td>...</td>\n",
       "      <td>...</td>\n",
       "      <td>...</td>\n",
       "      <td>...</td>\n",
       "      <td>...</td>\n",
       "    </tr>\n",
       "    <tr>\n",
       "      <th>10496</th>\n",
       "      <td>2022-08-01</td>\n",
       "      <td>161.009995</td>\n",
       "      <td>161.509995</td>\n",
       "      <td>67829400</td>\n",
       "      <td>-0.500000</td>\n",
       "    </tr>\n",
       "    <tr>\n",
       "      <th>10497</th>\n",
       "      <td>2022-08-02</td>\n",
       "      <td>160.100006</td>\n",
       "      <td>160.009995</td>\n",
       "      <td>59907000</td>\n",
       "      <td>1.000000</td>\n",
       "    </tr>\n",
       "    <tr>\n",
       "      <th>10498</th>\n",
       "      <td>2022-08-03</td>\n",
       "      <td>160.839996</td>\n",
       "      <td>166.130005</td>\n",
       "      <td>82507500</td>\n",
       "      <td>-5.290009</td>\n",
       "    </tr>\n",
       "    <tr>\n",
       "      <th>10499</th>\n",
       "      <td>2022-08-04</td>\n",
       "      <td>166.009995</td>\n",
       "      <td>165.809998</td>\n",
       "      <td>55474100</td>\n",
       "      <td>1.000000</td>\n",
       "    </tr>\n",
       "    <tr>\n",
       "      <th>10500</th>\n",
       "      <td>2022-08-05</td>\n",
       "      <td>163.210007</td>\n",
       "      <td>165.350006</td>\n",
       "      <td>56646600</td>\n",
       "      <td>-2.139999</td>\n",
       "    </tr>\n",
       "  </tbody>\n",
       "</table>\n",
       "<p>10248 rows × 5 columns</p>\n",
       "</div>"
      ],
      "text/plain": [
       "             Date        Open       Close     Volume  profitable\n",
       "0      1980-12-12    0.128348    0.128348  469033600    0.000000\n",
       "1      1980-12-15    0.122210    0.121652  175884800    1.000000\n",
       "2      1980-12-16    0.113281    0.112723  105728000    1.000000\n",
       "3      1980-12-17    0.115513    0.115513   86441600    0.000000\n",
       "4      1980-12-18    0.118862    0.118862   73449600    0.000000\n",
       "...           ...         ...         ...        ...         ...\n",
       "10496  2022-08-01  161.009995  161.509995   67829400   -0.500000\n",
       "10497  2022-08-02  160.100006  160.009995   59907000    1.000000\n",
       "10498  2022-08-03  160.839996  166.130005   82507500   -5.290009\n",
       "10499  2022-08-04  166.009995  165.809998   55474100    1.000000\n",
       "10500  2022-08-05  163.210007  165.350006   56646600   -2.139999\n",
       "\n",
       "[10248 rows x 5 columns]"
      ]
     },
     "execution_count": 75,
     "metadata": {},
     "output_type": "execute_result"
    }
   ],
   "source": [
    "df_apple_profit = df_apple.drop(columns=['High','Low','Adj Close'])\n",
    "df_Microsoft_profit = df_Microsoft.drop(columns=['High','Low','Adj Close'])\n",
    "\n",
    "\n",
    "\n",
    "df_apple_profit['profitable'] = df_apple_profit['Open'] - df_apple_profit['Close']\n",
    "df_Microsoft_profit['profitable'] = df_Microsoft_profit['Open'] - df_Microsoft_profit['Close']\n",
    "\n",
    "# def preprocess(df):\n",
    "#     temp = df.copy()\n",
    "#     temp[\"profitable\"].loc[temp[\"profitable\"] > 0] = 1\n",
    "#     df = temp\n",
    "#     return df\n",
    "# preprocess(df_apple_profit)"
   ]
  },
  {
   "cell_type": "code",
   "execution_count": 68,
   "metadata": {},
   "outputs": [
    {
     "data": {
      "text/html": [
       "<div>\n",
       "<style scoped>\n",
       "    .dataframe tbody tr th:only-of-type {\n",
       "        vertical-align: middle;\n",
       "    }\n",
       "\n",
       "    .dataframe tbody tr th {\n",
       "        vertical-align: top;\n",
       "    }\n",
       "\n",
       "    .dataframe thead th {\n",
       "        text-align: right;\n",
       "    }\n",
       "</style>\n",
       "<table border=\"1\" class=\"dataframe\">\n",
       "  <thead>\n",
       "    <tr style=\"text-align: right;\">\n",
       "      <th></th>\n",
       "      <th>Date</th>\n",
       "      <th>Open</th>\n",
       "      <th>Close</th>\n",
       "      <th>Volume</th>\n",
       "      <th>profitable</th>\n",
       "    </tr>\n",
       "  </thead>\n",
       "  <tbody>\n",
       "    <tr>\n",
       "      <th>0</th>\n",
       "      <td>1980-12-12</td>\n",
       "      <td>0.128348</td>\n",
       "      <td>0.128348</td>\n",
       "      <td>469033600</td>\n",
       "      <td>0.000000</td>\n",
       "    </tr>\n",
       "    <tr>\n",
       "      <th>1</th>\n",
       "      <td>1980-12-15</td>\n",
       "      <td>0.122210</td>\n",
       "      <td>0.121652</td>\n",
       "      <td>175884800</td>\n",
       "      <td>0.000558</td>\n",
       "    </tr>\n",
       "    <tr>\n",
       "      <th>2</th>\n",
       "      <td>1980-12-16</td>\n",
       "      <td>0.113281</td>\n",
       "      <td>0.112723</td>\n",
       "      <td>105728000</td>\n",
       "      <td>0.000558</td>\n",
       "    </tr>\n",
       "    <tr>\n",
       "      <th>3</th>\n",
       "      <td>1980-12-17</td>\n",
       "      <td>0.115513</td>\n",
       "      <td>0.115513</td>\n",
       "      <td>86441600</td>\n",
       "      <td>0.000000</td>\n",
       "    </tr>\n",
       "    <tr>\n",
       "      <th>4</th>\n",
       "      <td>1980-12-18</td>\n",
       "      <td>0.118862</td>\n",
       "      <td>0.118862</td>\n",
       "      <td>73449600</td>\n",
       "      <td>0.000000</td>\n",
       "    </tr>\n",
       "    <tr>\n",
       "      <th>...</th>\n",
       "      <td>...</td>\n",
       "      <td>...</td>\n",
       "      <td>...</td>\n",
       "      <td>...</td>\n",
       "      <td>...</td>\n",
       "    </tr>\n",
       "    <tr>\n",
       "      <th>10496</th>\n",
       "      <td>2022-08-01</td>\n",
       "      <td>161.009995</td>\n",
       "      <td>161.509995</td>\n",
       "      <td>67829400</td>\n",
       "      <td>-0.500000</td>\n",
       "    </tr>\n",
       "    <tr>\n",
       "      <th>10497</th>\n",
       "      <td>2022-08-02</td>\n",
       "      <td>160.100006</td>\n",
       "      <td>160.009995</td>\n",
       "      <td>59907000</td>\n",
       "      <td>0.090011</td>\n",
       "    </tr>\n",
       "    <tr>\n",
       "      <th>10498</th>\n",
       "      <td>2022-08-03</td>\n",
       "      <td>160.839996</td>\n",
       "      <td>166.130005</td>\n",
       "      <td>82507500</td>\n",
       "      <td>-5.290009</td>\n",
       "    </tr>\n",
       "    <tr>\n",
       "      <th>10499</th>\n",
       "      <td>2022-08-04</td>\n",
       "      <td>166.009995</td>\n",
       "      <td>165.809998</td>\n",
       "      <td>55474100</td>\n",
       "      <td>0.199997</td>\n",
       "    </tr>\n",
       "    <tr>\n",
       "      <th>10500</th>\n",
       "      <td>2022-08-05</td>\n",
       "      <td>163.210007</td>\n",
       "      <td>165.350006</td>\n",
       "      <td>56646600</td>\n",
       "      <td>-2.139999</td>\n",
       "    </tr>\n",
       "  </tbody>\n",
       "</table>\n",
       "<p>10248 rows × 5 columns</p>\n",
       "</div>"
      ],
      "text/plain": [
       "             Date        Open       Close     Volume  profitable\n",
       "0      1980-12-12    0.128348    0.128348  469033600    0.000000\n",
       "1      1980-12-15    0.122210    0.121652  175884800    0.000558\n",
       "2      1980-12-16    0.113281    0.112723  105728000    0.000558\n",
       "3      1980-12-17    0.115513    0.115513   86441600    0.000000\n",
       "4      1980-12-18    0.118862    0.118862   73449600    0.000000\n",
       "...           ...         ...         ...        ...         ...\n",
       "10496  2022-08-01  161.009995  161.509995   67829400   -0.500000\n",
       "10497  2022-08-02  160.100006  160.009995   59907000    0.090011\n",
       "10498  2022-08-03  160.839996  166.130005   82507500   -5.290009\n",
       "10499  2022-08-04  166.009995  165.809998   55474100    0.199997\n",
       "10500  2022-08-05  163.210007  165.350006   56646600   -2.139999\n",
       "\n",
       "[10248 rows x 5 columns]"
      ]
     },
     "execution_count": 68,
     "metadata": {},
     "output_type": "execute_result"
    }
   ],
   "source": [
    "df_apple_profit"
   ]
  },
  {
   "cell_type": "code",
   "execution_count": null,
   "metadata": {},
   "outputs": [],
   "source": []
  }
 ],
 "metadata": {
  "kernelspec": {
   "display_name": "Python 3 (ipykernel)",
   "language": "python",
   "name": "python3"
  },
  "language_info": {
   "codemirror_mode": {
    "name": "ipython",
    "version": 3
   },
   "file_extension": ".py",
   "mimetype": "text/x-python",
   "name": "python",
   "nbconvert_exporter": "python",
   "pygments_lexer": "ipython3",
   "version": "3.10.4"
  },
  "vscode": {
   "interpreter": {
    "hash": "ca644f767359049ef8e4dc15f86528016a38c79bb130dff264b83b2229a6c23f"
   }
  }
 },
 "nbformat": 4,
 "nbformat_minor": 2
}
