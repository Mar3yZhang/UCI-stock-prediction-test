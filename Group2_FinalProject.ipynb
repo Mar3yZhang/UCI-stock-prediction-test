{
 "cells": [
  {
   "cell_type": "markdown",
   "metadata": {},
   "source": [
    "# Introduction to Machine Learning and AI"
   ]
  },
  {
   "cell_type": "markdown",
   "metadata": {},
   "source": [
    "# Final-Project ：Thinking about Purchasing Stock  Case Study"
   ]
  },
  {
   "cell_type": "markdown",
   "metadata": {},
   "source": [
    "# Group 2 : Qi Zhang && Xinmeng Liu"
   ]
  },
  {
   "cell_type": "markdown",
   "metadata": {},
   "source": [
    "## Import relevant packages"
   ]
  },
  {
   "cell_type": "code",
   "execution_count": 99,
   "metadata": {},
   "outputs": [],
   "source": [
    "import pandas as pd\n",
    "import numpy as np\n",
    "import sklearn as sk\n",
    "import matplotlib.pyplot as plt\n",
    "import seaborn as sn\n",
    "import datetime\n",
    "plt.style.use('ggplot')\n",
    "from sklearn.impute import SimpleImputer"
   ]
  },
  {
   "cell_type": "markdown",
   "metadata": {},
   "source": [
    "## Import the data set"
   ]
  },
  {
   "cell_type": "code",
   "execution_count": 100,
   "metadata": {
    "scrolled": false
   },
   "outputs": [],
   "source": [
    "FILE1 = \"csv_file\\Apple.csv\"\n",
    "FILE2 = \"csv_file\\Microsoft.csv\"\n",
    "df_apple = pd.read_csv(FILE1)\n",
    "df_microsoft = pd.read_csv(FILE2)"
   ]
  },
  {
   "cell_type": "markdown",
   "metadata": {},
   "source": [
    "## Data Cleansing"
   ]
  },
  {
   "cell_type": "code",
   "execution_count": 101,
   "metadata": {},
   "outputs": [
    {
     "name": "stdout",
     "output_type": "stream",
     "text": [
      "Date         False\n",
      "Open         False\n",
      "High         False\n",
      "Low          False\n",
      "Close        False\n",
      "Adj Close    False\n",
      "Volume       False\n",
      "dtype: bool\n",
      "Date         False\n",
      "Open         False\n",
      "High         False\n",
      "Low          False\n",
      "Close        False\n",
      "Adj Close    False\n",
      "Volume       False\n",
      "dtype: bool\n"
     ]
    }
   ],
   "source": [
    "print(df_apple.isnull().any()) \n",
    "print(df_microsoft.isnull().any()) \n",
    "# No value is missing in these 2 data sets"
   ]
  },
  {
   "cell_type": "markdown",
   "metadata": {},
   "source": [
    "### Drop 2020 data"
   ]
  },
  {
   "cell_type": "code",
   "execution_count": 102,
   "metadata": {},
   "outputs": [],
   "source": [
    "df_apple = df_apple[df_apple[\"Date\"].str.contains(\"2020\") == False]\n",
    "df_microsoft = df_microsoft[df_microsoft[\"Date\"].str.contains(\"2020\") == False]\n",
    "# The 2020 data is not needed at all due to COVID-19 impacts."
   ]
  },
  {
   "cell_type": "markdown",
   "metadata": {},
   "source": [
    "### Turn the date into index"
   ]
  },
  {
   "cell_type": "code",
   "execution_count": 103,
   "metadata": {},
   "outputs": [],
   "source": [
    "df_apple['Date'] = pd.to_datetime(df_apple.Date,format='%Y-%m-%d')\n",
    "df_apple.index = df_apple['Date']\n",
    "\n",
    "df_microsoft['Date'] = pd.to_datetime(df_microsoft.Date,format='%Y-%m-%d')\n",
    "df_microsoft.index = df_microsoft['Date']"
   ]
  },
  {
   "cell_type": "markdown",
   "metadata": {},
   "source": [
    "### The basic info of Apple stock"
   ]
  },
  {
   "cell_type": "code",
   "execution_count": 104,
   "metadata": {},
   "outputs": [
    {
     "name": "stdout",
     "output_type": "stream",
     "text": [
      "<class 'pandas.core.frame.DataFrame'>\n",
      "DatetimeIndex: 10248 entries, 1980-12-12 to 2022-08-05\n",
      "Data columns (total 7 columns):\n",
      " #   Column     Non-Null Count  Dtype         \n",
      "---  ------     --------------  -----         \n",
      " 0   Date       10248 non-null  datetime64[ns]\n",
      " 1   Open       10248 non-null  float64       \n",
      " 2   High       10248 non-null  float64       \n",
      " 3   Low        10248 non-null  float64       \n",
      " 4   Close      10248 non-null  float64       \n",
      " 5   Adj Close  10248 non-null  float64       \n",
      " 6   Volume     10248 non-null  int64         \n",
      "dtypes: datetime64[ns](1), float64(5), int64(1)\n",
      "memory usage: 640.5 KB\n",
      "None\n",
      "               Open          High           Low         Close     Adj Close  \\\n",
      "count  10248.000000  10248.000000  10248.000000  10248.000000  10248.000000   \n",
      "mean      13.199479     13.339672     13.061867     13.206506     12.570622   \n",
      "std       30.388313     30.738308     30.062666     30.418153     30.107344   \n",
      "min        0.049665      0.049665      0.049107      0.049107      0.038276   \n",
      "25%        0.276786      0.283549      0.269208      0.276786      0.231130   \n",
      "50%        0.453437      0.462054      0.444911      0.453125      0.374543   \n",
      "75%       12.492678     12.591964     12.394285     12.515179     10.685858   \n",
      "max      182.630005    182.940002    179.119995    182.009995    181.259933   \n",
      "\n",
      "             Volume  \n",
      "count  1.024800e+04  \n",
      "mean   3.342945e+08  \n",
      "std    3.414985e+08  \n",
      "min    0.000000e+00  \n",
      "25%    1.238944e+08  \n",
      "50%    2.226140e+08  \n",
      "75%    4.182024e+08  \n",
      "max    7.421641e+09  \n",
      "                 Date      Open      High       Low     Close  Adj Close  \\\n",
      "Date                                                                       \n",
      "1980-12-12 1980-12-12  0.128348  0.128906  0.128348  0.128348   0.100039   \n",
      "1980-12-15 1980-12-15  0.122210  0.122210  0.121652  0.121652   0.094820   \n",
      "1980-12-16 1980-12-16  0.113281  0.113281  0.112723  0.112723   0.087861   \n",
      "1980-12-17 1980-12-17  0.115513  0.116071  0.115513  0.115513   0.090035   \n",
      "1980-12-18 1980-12-18  0.118862  0.119420  0.118862  0.118862   0.092646   \n",
      "\n",
      "               Volume  \n",
      "Date                   \n",
      "1980-12-12  469033600  \n",
      "1980-12-15  175884800  \n",
      "1980-12-16  105728000  \n",
      "1980-12-17   86441600  \n",
      "1980-12-18   73449600  \n",
      "               Open      High       Low     Close  Adj Close    Volume\n",
      "Open       1.000000  0.999952  0.999941  0.999869   0.999482 -0.184787\n",
      "High       0.999952  1.000000  0.999932  0.999938   0.999584 -0.184237\n",
      "Low        0.999941  0.999932  1.000000  0.999939   0.999535 -0.185668\n",
      "Close      0.999869  0.999938  0.999939  1.000000   0.999625 -0.184960\n",
      "Adj Close  0.999482  0.999584  0.999535  0.999625   1.000000 -0.187985\n",
      "Volume    -0.184787 -0.184237 -0.185668 -0.184960  -0.187985  1.000000\n",
      "Index(['Date', 'Open', 'High', 'Low', 'Close', 'Adj Close', 'Volume'], dtype='object')\n"
     ]
    }
   ],
   "source": [
    "print(df_apple.info())\n",
    "print(df_apple.describe())\n",
    "print(df_apple.head())\n",
    "print(df_apple.corr())\n",
    "print(df_apple.columns)"
   ]
  },
  {
   "cell_type": "markdown",
   "metadata": {},
   "source": [
    "### The basic info of Microsoft stock"
   ]
  },
  {
   "cell_type": "code",
   "execution_count": 105,
   "metadata": {},
   "outputs": [
    {
     "name": "stdout",
     "output_type": "stream",
     "text": [
      "<class 'pandas.core.frame.DataFrame'>\n",
      "DatetimeIndex: 8922 entries, 1986-03-13 to 2022-08-05\n",
      "Data columns (total 7 columns):\n",
      " #   Column     Non-Null Count  Dtype         \n",
      "---  ------     --------------  -----         \n",
      " 0   Date       8922 non-null   datetime64[ns]\n",
      " 1   Open       8922 non-null   float64       \n",
      " 2   High       8922 non-null   float64       \n",
      " 3   Low        8922 non-null   float64       \n",
      " 4   Close      8922 non-null   float64       \n",
      " 5   Adj Close  8922 non-null   float64       \n",
      " 6   Volume     8922 non-null   int64         \n",
      "dtypes: datetime64[ns](1), float64(5), int64(1)\n",
      "memory usage: 557.6 KB\n",
      "None\n",
      "              Open         High          Low        Close    Adj Close  \\\n",
      "count  8922.000000  8922.000000  8922.000000  8922.000000  8922.000000   \n",
      "mean     39.405219    39.813412    38.982464    39.412798    34.235384   \n",
      "std      59.241808    59.807334    58.622170    59.252423    59.453134   \n",
      "min       0.088542     0.092014     0.088542     0.090278     0.056745   \n",
      "25%       3.894531     3.945313     3.856445     3.894531     2.447927   \n",
      "50%      26.670000    26.940001    26.365001    26.650000    18.612948   \n",
      "75%      37.577501    37.867500    37.197501    37.525937    27.645862   \n",
      "max     344.619995   349.670013   342.200012   343.109985   341.606354   \n",
      "\n",
      "             Volume  \n",
      "count  8.922000e+03  \n",
      "mean   5.905367e+07  \n",
      "std    3.864768e+07  \n",
      "min    2.304000e+06  \n",
      "25%    3.495510e+07  \n",
      "50%    5.226045e+07  \n",
      "75%    7.294255e+07  \n",
      "max    1.031789e+09  \n",
      "                 Date      Open      High       Low     Close  Adj Close  \\\n",
      "Date                                                                       \n",
      "1986-03-13 1986-03-13  0.088542  0.101563  0.088542  0.097222   0.061109   \n",
      "1986-03-14 1986-03-14  0.097222  0.102431  0.097222  0.100694   0.063292   \n",
      "1986-03-17 1986-03-17  0.100694  0.103299  0.100694  0.102431   0.064384   \n",
      "1986-03-18 1986-03-18  0.102431  0.103299  0.098958  0.099826   0.062746   \n",
      "1986-03-19 1986-03-19  0.099826  0.100694  0.097222  0.098090   0.061655   \n",
      "\n",
      "                Volume  \n",
      "Date                    \n",
      "1986-03-13  1031788800  \n",
      "1986-03-14   308160000  \n",
      "1986-03-17   133171200  \n",
      "1986-03-18    67766400  \n",
      "1986-03-19    47894400  \n",
      "               Open      High       Low     Close  Adj Close    Volume\n",
      "Open       1.000000  0.999945  0.999928  0.999858   0.997435 -0.296073\n",
      "High       0.999945  1.000000  0.999912  0.999930   0.997438 -0.294727\n",
      "Low        0.999928  0.999912  1.000000  0.999934   0.997565 -0.297676\n",
      "Close      0.999858  0.999930  0.999934  1.000000   0.997576 -0.296285\n",
      "Adj Close  0.997435  0.997438  0.997565  0.997576   1.000000 -0.298094\n",
      "Volume    -0.296073 -0.294727 -0.297676 -0.296285  -0.298094  1.000000\n",
      "Index(['Date', 'Open', 'High', 'Low', 'Close', 'Adj Close', 'Volume'], dtype='object')\n"
     ]
    }
   ],
   "source": [
    "print(df_microsoft.info())\n",
    "print(df_microsoft.describe())\n",
    "print(df_microsoft.head())\n",
    "print(df_microsoft.corr())\n",
    "print(df_microsoft.columns)"
   ]
  },
  {
   "cell_type": "markdown",
   "metadata": {},
   "source": [
    "### check the correlations through heatmap "
   ]
  },
  {
   "cell_type": "code",
   "execution_count": 106,
   "metadata": {},
   "outputs": [
    {
     "data": {
      "image/png": "[encoded data removed]",
      "text/plain": [
       "<Figure size 432x288 with 2 Axes>"
      ]
     },
     "metadata": {},
     "output_type": "display_data"
    }
   ],
   "source": [
    "dataplot=sn.heatmap(df_apple.corr(),cmap='YlGnBu',annot=True)"
   ]
  },
  {
   "cell_type": "code",
   "execution_count": 107,
   "metadata": {},
   "outputs": [
    {
     "data": {
      "image/png": "[encoded data removed]",
      "text/plain": [
       "<Figure size 432x288 with 2 Axes>"
      ]
     },
     "metadata": {},
     "output_type": "display_data"
    }
   ],
   "source": [
    "dataplot=sn.heatmap(df_microsoft.corr(),cmap='YlGnBu',annot=True)"
   ]
  },
  {
   "cell_type": "markdown",
   "metadata": {},
   "source": [
    "# Analysis"
   ]
  },
  {
   "cell_type": "markdown",
   "metadata": {},
   "source": [
    "## Check the trend by close price"
   ]
  },
  {
   "cell_type": "code",
   "execution_count": 146,
   "metadata": {
    "scrolled": true
   },
   "outputs": [
    {
     "data": {
      "image/png": "[encoded data removed]",
      "text/plain": [
       "<Figure size 720x360 with 1 Axes>"
      ]
     },
     "metadata": {},
     "output_type": "display_data"
    }
   ],
   "source": [
    "plt.figure(figsize=(10,5))\n",
    "plt.title('Close price trend of Apple')\n",
    "plt.grid(True)\n",
    "dstart = datetime.datetime(2005,1,1)\n",
    "dstop = datetime.datetime(2025,8,1)\n",
    "plt.xlim(dstart,dstop)\n",
    "plt.plot(df_apple['Close'], label='Close Price history')"
   ]
  },
  {
   "cell_type": "code",
   "execution_count": 145,
   "metadata": {},
   "outputs": [
    {
     "data": {
      "image/png": "[encoded data removed]",
      "text/plain": [
       "<Figure size 720x360 with 1 Axes>"
      ]
     },
     "metadata": {},
     "output_type": "display_data"
    }
   ],
   "source": [
    "plt.figure(figsize=(10,5))\n",
    "plt.title('Close price trend of Microsoft')\n",
    "plt.grid(True)\n",
    "dstart = datetime.datetime(2005,1,1)\n",
    "dstop = datetime.datetime(2025,8,1)\n",
    "plt.xlim(dstart,dstop)\n",
    "plt.plot(df_microsoft['Close'], label='Close Price history')"
   ]
  },
  {
   "cell_type": "markdown",
   "metadata": {},
   "source": [
    "## Check the trend by MA of adjusted price"
   ]
  },
  {
   "cell_type": "code",
   "execution_count": 160,
   "metadata": {
    "scrolled": true
   },
   "outputs": [
    {
     "data": {
      "image/png": "[encoded data removed]",
      "text/plain": [
       "<Figure size 720x360 with 1 Axes>"
      ]
     },
     "metadata": {},
     "output_type": "display_data"
    }
   ],
   "source": [
    "adj_price = df_apple['Adj Close']\n",
    "\n",
    "plt.figure(figsize=(10,5))\n",
    "plt.title('Adjusted close price trend of Apple')\n",
    "plt.grid(True)\n",
    "MA_adj_price = adj_price.rolling(window=100).mean()\n",
    "dstart = datetime.datetime(2005,1,1)\n",
    "dstop = datetime.datetime(2024,1,1)\n",
    "plt.xlim(dstart,dstop)\n",
    "adj_price.plot(label='Adj_price')\n",
    "MA_adj_price.plot(label='MA_Ajd_price')\n",
    "plt.legend()\n",
    "plt.savefig(r'C:\\Users\\Marsy\\Desktop\\1.png',dpi=300, bbox_inches='tight')"
   ]
  },
  {
   "cell_type": "code",
   "execution_count": 159,
   "metadata": {},
   "outputs": [
    {
     "data": {
      "image/png": "[encoded data removed]",
      "text/plain": [
       "<Figure size 720x360 with 1 Axes>"
      ]
     },
     "metadata": {},
     "output_type": "display_data"
    }
   ],
   "source": [
    "adj_price = df_microsoft['Adj Close']\n",
    "\n",
    "plt.figure(figsize=(10,5))\n",
    "plt.title('Adjusted close price trend of Microsoft')\n",
    "plt.grid(True)\n",
    "MA_adj_price = adj_price.rolling(window=100).mean()\n",
    "dstart = datetime.datetime(2005,1,1)\n",
    "dstop = datetime.datetime(2024,1,1)\n",
    "plt.xlim(dstart,dstop)\n",
    "adj_price.plot(label='Adj_price')\n",
    "MA_adj_price.plot(label='MA_Ajd_price')\n",
    "plt.legend()\n",
    "plt.savefig(r'C:\\Users\\Marsy\\Desktop\\2.png',dpi=300, bbox_inches='tight')"
   ]
  },
  {
   "cell_type": "markdown",
   "metadata": {},
   "source": [
    "## Profit analysis"
   ]
  },
  {
   "cell_type": "code",
   "execution_count": 95,
   "metadata": {},
   "outputs": [],
   "source": [
    "# copy the original data \n",
    "df_apple_profit = df_apple.copy()\n",
    "df_microsoft_profit = df_microsoft.copy()\n",
    "\n",
    "# get the difference of open price and close price \n",
    "df_apple_profit['profitable'] = df_apple['Open'] - df_apple['Close']\n",
    "df_microsoft_profit['profitable'] = df_microsoft['Open'] - df_microsoft['Close']\n",
    "\n",
    "# drop the open price and close  \n",
    "df_apple_profit = df_apple_profit.drop(columns=['Open','Close'])\n",
    "df_microsoft_profit = df_microsoft_profit.drop(columns=['Open','Close'])\n",
    "\n",
    "# use 1/0 to show today is profitable or not \n",
    "# So that we can apply the classification model\n",
    "df_apple_profit.loc[df_apple_profit['profitable']>0,'profitable']=1\n",
    "df_microsoft_profit.loc[df_microsoft_profit['profitable']>0,'profitable']=1\n",
    "df_apple_profit.loc[df_apple_profit['profitable']<=0,'profitable']=0\n",
    "df_microsoft_profit.loc[df_microsoft_profit['profitable']<=0,'profitable']=0"
   ]
  },
  {
   "cell_type": "code",
   "execution_count": 96,
   "metadata": {
    "scrolled": true
   },
   "outputs": [
    {
     "data": {
      "text/html": [
       "<div>\n",
       "<style scoped>\n",
       "    .dataframe tbody tr th:only-of-type {\n",
       "        vertical-align: middle;\n",
       "    }\n",
       "\n",
       "    .dataframe tbody tr th {\n",
       "        vertical-align: top;\n",
       "    }\n",
       "\n",
       "    .dataframe thead th {\n",
       "        text-align: right;\n",
       "    }\n",
       "</style>\n",
       "<table border=\"1\" class=\"dataframe\">\n",
       "  <thead>\n",
       "    <tr style=\"text-align: right;\">\n",
       "      <th></th>\n",
       "      <th>Date</th>\n",
       "      <th>High</th>\n",
       "      <th>Low</th>\n",
       "      <th>Adj Close</th>\n",
       "      <th>Volume</th>\n",
       "      <th>profitable</th>\n",
       "    </tr>\n",
       "    <tr>\n",
       "      <th>Date</th>\n",
       "      <th></th>\n",
       "      <th></th>\n",
       "      <th></th>\n",
       "      <th></th>\n",
       "      <th></th>\n",
       "      <th></th>\n",
       "    </tr>\n",
       "  </thead>\n",
       "  <tbody>\n",
       "    <tr>\n",
       "      <th>1980-12-12</th>\n",
       "      <td>1980-12-12</td>\n",
       "      <td>0.128906</td>\n",
       "      <td>0.128348</td>\n",
       "      <td>0.100039</td>\n",
       "      <td>469033600</td>\n",
       "      <td>0.0</td>\n",
       "    </tr>\n",
       "    <tr>\n",
       "      <th>1980-12-15</th>\n",
       "      <td>1980-12-15</td>\n",
       "      <td>0.122210</td>\n",
       "      <td>0.121652</td>\n",
       "      <td>0.094820</td>\n",
       "      <td>175884800</td>\n",
       "      <td>1.0</td>\n",
       "    </tr>\n",
       "    <tr>\n",
       "      <th>1980-12-16</th>\n",
       "      <td>1980-12-16</td>\n",
       "      <td>0.113281</td>\n",
       "      <td>0.112723</td>\n",
       "      <td>0.087861</td>\n",
       "      <td>105728000</td>\n",
       "      <td>1.0</td>\n",
       "    </tr>\n",
       "    <tr>\n",
       "      <th>1980-12-17</th>\n",
       "      <td>1980-12-17</td>\n",
       "      <td>0.116071</td>\n",
       "      <td>0.115513</td>\n",
       "      <td>0.090035</td>\n",
       "      <td>86441600</td>\n",
       "      <td>0.0</td>\n",
       "    </tr>\n",
       "    <tr>\n",
       "      <th>1980-12-18</th>\n",
       "      <td>1980-12-18</td>\n",
       "      <td>0.119420</td>\n",
       "      <td>0.118862</td>\n",
       "      <td>0.092646</td>\n",
       "      <td>73449600</td>\n",
       "      <td>0.0</td>\n",
       "    </tr>\n",
       "    <tr>\n",
       "      <th>...</th>\n",
       "      <td>...</td>\n",
       "      <td>...</td>\n",
       "      <td>...</td>\n",
       "      <td>...</td>\n",
       "      <td>...</td>\n",
       "      <td>...</td>\n",
       "    </tr>\n",
       "    <tr>\n",
       "      <th>2022-08-01</th>\n",
       "      <td>2022-08-01</td>\n",
       "      <td>163.589996</td>\n",
       "      <td>160.889999</td>\n",
       "      <td>161.285965</td>\n",
       "      <td>67829400</td>\n",
       "      <td>0.0</td>\n",
       "    </tr>\n",
       "    <tr>\n",
       "      <th>2022-08-02</th>\n",
       "      <td>2022-08-02</td>\n",
       "      <td>162.410004</td>\n",
       "      <td>159.630005</td>\n",
       "      <td>159.788040</td>\n",
       "      <td>59907000</td>\n",
       "      <td>1.0</td>\n",
       "    </tr>\n",
       "    <tr>\n",
       "      <th>2022-08-03</th>\n",
       "      <td>2022-08-03</td>\n",
       "      <td>166.589996</td>\n",
       "      <td>160.750000</td>\n",
       "      <td>165.899567</td>\n",
       "      <td>82507500</td>\n",
       "      <td>0.0</td>\n",
       "    </tr>\n",
       "    <tr>\n",
       "      <th>2022-08-04</th>\n",
       "      <td>2022-08-04</td>\n",
       "      <td>167.190002</td>\n",
       "      <td>164.429993</td>\n",
       "      <td>165.580002</td>\n",
       "      <td>55474100</td>\n",
       "      <td>1.0</td>\n",
       "    </tr>\n",
       "    <tr>\n",
       "      <th>2022-08-05</th>\n",
       "      <td>2022-08-05</td>\n",
       "      <td>165.850006</td>\n",
       "      <td>163.000000</td>\n",
       "      <td>165.350006</td>\n",
       "      <td>56646600</td>\n",
       "      <td>0.0</td>\n",
       "    </tr>\n",
       "  </tbody>\n",
       "</table>\n",
       "<p>10248 rows × 6 columns</p>\n",
       "</div>"
      ],
      "text/plain": [
       "                 Date        High         Low   Adj Close     Volume  \\\n",
       "Date                                                                   \n",
       "1980-12-12 1980-12-12    0.128906    0.128348    0.100039  469033600   \n",
       "1980-12-15 1980-12-15    0.122210    0.121652    0.094820  175884800   \n",
       "1980-12-16 1980-12-16    0.113281    0.112723    0.087861  105728000   \n",
       "1980-12-17 1980-12-17    0.116071    0.115513    0.090035   86441600   \n",
       "1980-12-18 1980-12-18    0.119420    0.118862    0.092646   73449600   \n",
       "...               ...         ...         ...         ...        ...   \n",
       "2022-08-01 2022-08-01  163.589996  160.889999  161.285965   67829400   \n",
       "2022-08-02 2022-08-02  162.410004  159.630005  159.788040   59907000   \n",
       "2022-08-03 2022-08-03  166.589996  160.750000  165.899567   82507500   \n",
       "2022-08-04 2022-08-04  167.190002  164.429993  165.580002   55474100   \n",
       "2022-08-05 2022-08-05  165.850006  163.000000  165.350006   56646600   \n",
       "\n",
       "            profitable  \n",
       "Date                    \n",
       "1980-12-12         0.0  \n",
       "1980-12-15         1.0  \n",
       "1980-12-16         1.0  \n",
       "1980-12-17         0.0  \n",
       "1980-12-18         0.0  \n",
       "...                ...  \n",
       "2022-08-01         0.0  \n",
       "2022-08-02         1.0  \n",
       "2022-08-03         0.0  \n",
       "2022-08-04         1.0  \n",
       "2022-08-05         0.0  \n",
       "\n",
       "[10248 rows x 6 columns]"
      ]
     },
     "execution_count": 96,
     "metadata": {},
     "output_type": "execute_result"
    }
   ],
   "source": [
    "df_apple_profit"
   ]
  },
  {
   "cell_type": "code",
   "execution_count": 97,
   "metadata": {
    "scrolled": false
   },
   "outputs": [
    {
     "data": {
      "text/html": [
       "<div>\n",
       "<style scoped>\n",
       "    .dataframe tbody tr th:only-of-type {\n",
       "        vertical-align: middle;\n",
       "    }\n",
       "\n",
       "    .dataframe tbody tr th {\n",
       "        vertical-align: top;\n",
       "    }\n",
       "\n",
       "    .dataframe thead th {\n",
       "        text-align: right;\n",
       "    }\n",
       "</style>\n",
       "<table border=\"1\" class=\"dataframe\">\n",
       "  <thead>\n",
       "    <tr style=\"text-align: right;\">\n",
       "      <th></th>\n",
       "      <th>Date</th>\n",
       "      <th>High</th>\n",
       "      <th>Low</th>\n",
       "      <th>Adj Close</th>\n",
       "      <th>Volume</th>\n",
       "      <th>profitable</th>\n",
       "    </tr>\n",
       "    <tr>\n",
       "      <th>Date</th>\n",
       "      <th></th>\n",
       "      <th></th>\n",
       "      <th></th>\n",
       "      <th></th>\n",
       "      <th></th>\n",
       "      <th></th>\n",
       "    </tr>\n",
       "  </thead>\n",
       "  <tbody>\n",
       "    <tr>\n",
       "      <th>1986-03-13</th>\n",
       "      <td>1986-03-13</td>\n",
       "      <td>0.101563</td>\n",
       "      <td>0.088542</td>\n",
       "      <td>0.061109</td>\n",
       "      <td>1031788800</td>\n",
       "      <td>0.0</td>\n",
       "    </tr>\n",
       "    <tr>\n",
       "      <th>1986-03-14</th>\n",
       "      <td>1986-03-14</td>\n",
       "      <td>0.102431</td>\n",
       "      <td>0.097222</td>\n",
       "      <td>0.063292</td>\n",
       "      <td>308160000</td>\n",
       "      <td>0.0</td>\n",
       "    </tr>\n",
       "    <tr>\n",
       "      <th>1986-03-17</th>\n",
       "      <td>1986-03-17</td>\n",
       "      <td>0.103299</td>\n",
       "      <td>0.100694</td>\n",
       "      <td>0.064384</td>\n",
       "      <td>133171200</td>\n",
       "      <td>0.0</td>\n",
       "    </tr>\n",
       "    <tr>\n",
       "      <th>1986-03-18</th>\n",
       "      <td>1986-03-18</td>\n",
       "      <td>0.103299</td>\n",
       "      <td>0.098958</td>\n",
       "      <td>0.062746</td>\n",
       "      <td>67766400</td>\n",
       "      <td>1.0</td>\n",
       "    </tr>\n",
       "    <tr>\n",
       "      <th>1986-03-19</th>\n",
       "      <td>1986-03-19</td>\n",
       "      <td>0.100694</td>\n",
       "      <td>0.097222</td>\n",
       "      <td>0.061655</td>\n",
       "      <td>47894400</td>\n",
       "      <td>1.0</td>\n",
       "    </tr>\n",
       "    <tr>\n",
       "      <th>...</th>\n",
       "      <td>...</td>\n",
       "      <td>...</td>\n",
       "      <td>...</td>\n",
       "      <td>...</td>\n",
       "      <td>...</td>\n",
       "      <td>...</td>\n",
       "    </tr>\n",
       "    <tr>\n",
       "      <th>2022-08-01</th>\n",
       "      <td>2022-08-01</td>\n",
       "      <td>281.279999</td>\n",
       "      <td>275.839996</td>\n",
       "      <td>278.010010</td>\n",
       "      <td>21539600</td>\n",
       "      <td>0.0</td>\n",
       "    </tr>\n",
       "    <tr>\n",
       "      <th>2022-08-02</th>\n",
       "      <td>2022-08-02</td>\n",
       "      <td>277.890015</td>\n",
       "      <td>272.380005</td>\n",
       "      <td>274.820007</td>\n",
       "      <td>22754200</td>\n",
       "      <td>1.0</td>\n",
       "    </tr>\n",
       "    <tr>\n",
       "      <th>2022-08-03</th>\n",
       "      <td>2022-08-03</td>\n",
       "      <td>283.500000</td>\n",
       "      <td>276.609985</td>\n",
       "      <td>282.470001</td>\n",
       "      <td>23518900</td>\n",
       "      <td>0.0</td>\n",
       "    </tr>\n",
       "    <tr>\n",
       "      <th>2022-08-04</th>\n",
       "      <td>2022-08-04</td>\n",
       "      <td>283.799988</td>\n",
       "      <td>280.170013</td>\n",
       "      <td>283.649994</td>\n",
       "      <td>18098700</td>\n",
       "      <td>0.0</td>\n",
       "    </tr>\n",
       "    <tr>\n",
       "      <th>2022-08-05</th>\n",
       "      <td>2022-08-05</td>\n",
       "      <td>283.649994</td>\n",
       "      <td>278.679993</td>\n",
       "      <td>282.910004</td>\n",
       "      <td>16767900</td>\n",
       "      <td>0.0</td>\n",
       "    </tr>\n",
       "  </tbody>\n",
       "</table>\n",
       "<p>8922 rows × 6 columns</p>\n",
       "</div>"
      ],
      "text/plain": [
       "                 Date        High         Low   Adj Close      Volume  \\\n",
       "Date                                                                    \n",
       "1986-03-13 1986-03-13    0.101563    0.088542    0.061109  1031788800   \n",
       "1986-03-14 1986-03-14    0.102431    0.097222    0.063292   308160000   \n",
       "1986-03-17 1986-03-17    0.103299    0.100694    0.064384   133171200   \n",
       "1986-03-18 1986-03-18    0.103299    0.098958    0.062746    67766400   \n",
       "1986-03-19 1986-03-19    0.100694    0.097222    0.061655    47894400   \n",
       "...               ...         ...         ...         ...         ...   \n",
       "2022-08-01 2022-08-01  281.279999  275.839996  278.010010    21539600   \n",
       "2022-08-02 2022-08-02  277.890015  272.380005  274.820007    22754200   \n",
       "2022-08-03 2022-08-03  283.500000  276.609985  282.470001    23518900   \n",
       "2022-08-04 2022-08-04  283.799988  280.170013  283.649994    18098700   \n",
       "2022-08-05 2022-08-05  283.649994  278.679993  282.910004    16767900   \n",
       "\n",
       "            profitable  \n",
       "Date                    \n",
       "1986-03-13         0.0  \n",
       "1986-03-14         0.0  \n",
       "1986-03-17         0.0  \n",
       "1986-03-18         1.0  \n",
       "1986-03-19         1.0  \n",
       "...                ...  \n",
       "2022-08-01         0.0  \n",
       "2022-08-02         1.0  \n",
       "2022-08-03         0.0  \n",
       "2022-08-04         0.0  \n",
       "2022-08-05         0.0  \n",
       "\n",
       "[8922 rows x 6 columns]"
      ]
     },
     "execution_count": 97,
     "metadata": {},
     "output_type": "execute_result"
    }
   ],
   "source": [
    "df_microsoft_profit"
   ]
  },
  {
   "cell_type": "code",
   "execution_count": null,
   "metadata": {},
   "outputs": [],
   "source": []
  },
  {
   "cell_type": "code",
   "execution_count": null,
   "metadata": {},
   "outputs": [],
   "source": []
  },
  {
   "cell_type": "code",
   "execution_count": null,
   "metadata": {},
   "outputs": [],
   "source": []
  }
 ],
 "metadata": {
  "kernelspec": {
   "display_name": "Python 3 (ipykernel)",
   "language": "python",
   "name": "python3"
  },
  "language_info": {
   "codemirror_mode": {
    "name": "ipython",
    "version": 3
   },
   "file_extension": ".py",
   "mimetype": "text/x-python",
   "name": "python",
   "nbconvert_exporter": "python",
   "pygments_lexer": "ipython3",
   "version": "3.10.4"
  },
  "vscode": {
   "interpreter": {
    "hash": "ca644f767359049ef8e4dc15f86528016a38c79bb130dff264b83b2229a6c23f"
   }
  }
 },
 "nbformat": 4,
 "nbformat_minor": 2
}
