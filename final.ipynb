{
 "cells": [
  {
   "cell_type": "code",
   "execution_count": 1,
   "metadata": {},
   "outputs": [],
   "source": [
    "import pandas as pd\n",
    "import numpy as np\n",
    "import sklearn as sk\n",
    "import matplotlib.pyplot as plt\n",
    "import seaborn as sn"
   ]
  },
  {
   "cell_type": "code",
   "execution_count": 3,
   "metadata": {},
   "outputs": [],
   "source": [
    "# remove 2020 data at all due to COVID-19 impacts\n",
    "def remove2020(filename):\n",
    "    FILENAME = filename +'.csv'\n",
    "    df = pd.read_csv(FILENAME,encoding= \"latin-1\",sep=\",\") \n",
    "    df = df[df[\"Date\"].str.contains(\"2020\") == False]\n",
    "    NEWFILENAME = filename + '_out.csv'\n",
    "    df.to_csv(NEWFILENAME,index=False)\n",
    "\n",
    "file = ['Apple','Meta','Microsoft','Tesla']\n",
    "for i in file:\n",
    "    remove2020(i)\n",
    "    "
   ]
  }
 ],
 "metadata": {
  "kernelspec": {
   "display_name": "Python 3.9.6 64-bit",
   "language": "python",
   "name": "python3"
  },
  "language_info": {
   "codemirror_mode": {
    "name": "ipython",
    "version": 3
   },
   "file_extension": ".py",
   "mimetype": "text/x-python",
   "name": "python",
   "nbconvert_exporter": "python",
   "pygments_lexer": "ipython3",
   "version": "3.9.6"
  },
  "orig_nbformat": 4,
  "vscode": {
   "interpreter": {
    "hash": "ca644f767359049ef8e4dc15f86528016a38c79bb130dff264b83b2229a6c23f"
   }
  }
 },
 "nbformat": 4,
 "nbformat_minor": 2
}
