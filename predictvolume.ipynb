{
 "cells": [
  {
   "cell_type": "markdown",
   "metadata": {},
   "source": [
    "try to use day to predict volume, but keep getting low model score and same predicted values."
   ]
  },
  {
   "cell_type": "code",
   "execution_count": 78,
   "metadata": {},
   "outputs": [],
   "source": [
    "import pandas as pd\n",
    "import numpy as np\n",
    "import math\n",
    "import matplotlib.pyplot as plt\n",
    "import seaborn as sn\n",
    "import datetime\n",
    "from sklearn.model_selection import train_test_split\n",
    "from sklearn.metrics import classification_report, confusion_matrix, accuracy_score\n",
    "from sklearn.preprocessing import MinMaxScaler\n",
    "from sklearn.ensemble import RandomForestRegressor, AdaBoostRegressor, GradientBoostingRegressor\n",
    "from sklearn.linear_model import LinearRegression\n",
    "from sklearn.tree import DecisionTreeRegressor\n",
    "from sklearn.neighbors import KNeighborsRegressor\n",
    "from sklearn.svm import SVR\n",
    "\n",
    "plt.style.use('ggplot')\n"
   ]
  },
  {
   "cell_type": "code",
   "execution_count": 79,
   "metadata": {},
   "outputs": [],
   "source": [
    "FILE1 = \"csv_file\\Apple.csv\"\n",
    "FILE2 = \"csv_file\\Microsoft.csv\"\n",
    "df_apple = pd.read_csv(FILE1)\n",
    "df_microsoft = pd.read_csv(FILE2)\n",
    "df_apple = df_apple[df_apple[\"Date\"].str.contains(\"2020\") == False]\n",
    "df_microsoft = df_microsoft[df_microsoft[\"Date\"].str.contains(\"2020\") == False]\n",
    "df_apple['Date'] = pd.to_datetime(df_apple.Date, format='%Y-%m-%d')\n",
    "df_apple.index = df_apple['Date']\n",
    "\n",
    "df_microsoft['Date'] = pd.to_datetime(df_microsoft.Date, format='%Y-%m-%d')\n",
    "df_microsoft.index = df_microsoft['Date']"
   ]
  },
  {
   "cell_type": "code",
   "execution_count": 80,
   "metadata": {},
   "outputs": [
    {
     "name": "stdout",
     "output_type": "stream",
     "text": [
      "              Open         High          Low        Close    Adj Close  \\\n",
      "count  8922.000000  8922.000000  8922.000000  8922.000000  8922.000000   \n",
      "mean     39.405219    39.813412    38.982464    39.412798    34.235384   \n",
      "std      59.241808    59.807334    58.622170    59.252423    59.453134   \n",
      "min       0.088542     0.092014     0.088542     0.090278     0.056745   \n",
      "25%       3.894531     3.945313     3.856445     3.894531     2.447927   \n",
      "50%      26.670000    26.940001    26.365001    26.650000    18.612948   \n",
      "75%      37.577501    37.867500    37.197501    37.525937    27.645862   \n",
      "max     344.619995   349.670013   342.200012   343.109985   341.606354   \n",
      "\n",
      "             Volume  \n",
      "count  8.922000e+03  \n",
      "mean   5.905367e+07  \n",
      "std    3.864768e+07  \n",
      "min    2.304000e+06  \n",
      "25%    3.495510e+07  \n",
      "50%    5.226045e+07  \n",
      "75%    7.294255e+07  \n",
      "max    1.031789e+09  \n"
     ]
    }
   ],
   "source": [
    "print(df_microsoft.describe())"
   ]
  },
  {
   "cell_type": "code",
   "execution_count": 81,
   "metadata": {},
   "outputs": [],
   "source": [
    "df_reg_apple = df_apple.copy().loc[:, ['Adj Close', 'Volume']]\n",
    "df_reg_apple = df_reg_apple['2005-1-1':'2022-8-1'] # wont change the result if change to future date like 2022-9-1\n",
    "df_reg_apple = df_reg_apple.iloc[:,[1]].reset_index(drop=True)\n",
    "y_apple_volume = df_reg_apple.values\n",
    "x_apple_volume = df_reg_apple.index.values.reshape(-1, 1)\n",
    "\n",
    "x_apple_train, x_apple_test, y_apple_train, y_apple_test = train_test_split(x_apple_volume,y_apple_volume,\n",
    "                                                                            test_size=0.01,\n",
    "                                                                            random_state=16,\n",
    "                                                                            shuffle=True)\n",
    "                                                                            "
   ]
  },
  {
   "cell_type": "code",
   "execution_count": 82,
   "metadata": {},
   "outputs": [
    {
     "name": "stdout",
     "output_type": "stream",
     "text": [
      "[[ 691992000]\n",
      " [1096810400]\n",
      " [ 680433600]\n",
      " ...\n",
      " [  81378700]\n",
      " [ 101689200]\n",
      " [  67829400]]\n",
      "[[   0]\n",
      " [   1]\n",
      " [   2]\n",
      " ...\n",
      " [4169]\n",
      " [4170]\n",
      " [4171]]\n"
     ]
    }
   ],
   "source": [
    "print(y_apple_volume)\n",
    "print(x_apple_volume)"
   ]
  },
  {
   "cell_type": "code",
   "execution_count": 83,
   "metadata": {},
   "outputs": [
    {
     "name": "stderr",
     "output_type": "stream",
     "text": [
      "c:\\Users\\ormosia5\\AppData\\Local\\Programs\\Python\\Python39\\lib\\site-packages\\sklearn\\utils\\validation.py:1111: DataConversionWarning: A column-vector y was passed when a 1d array was expected. Please change the shape of y to (n_samples, ), for example using ravel().\n",
      "  y = column_or_1d(y, warn=True)\n",
      "C:\\Users\\ormosia5\\AppData\\Local\\Temp\\ipykernel_49892\\3404906299.py:2: DataConversionWarning: A column-vector y was passed when a 1d array was expected. Please change the shape of y to (n_samples,), for example using ravel().\n",
      "  modelRFR_apple = RandomForestRegressor().fit(x_apple_train, y_apple_train)\n",
      "c:\\Users\\ormosia5\\AppData\\Local\\Programs\\Python\\Python39\\lib\\site-packages\\sklearn\\utils\\validation.py:1111: DataConversionWarning: A column-vector y was passed when a 1d array was expected. Please change the shape of y to (n_samples, ), for example using ravel().\n",
      "  y = column_or_1d(y, warn=True)\n",
      "c:\\Users\\ormosia5\\AppData\\Local\\Programs\\Python\\Python39\\lib\\site-packages\\sklearn\\ensemble\\_gb.py:570: DataConversionWarning: A column-vector y was passed when a 1d array was expected. Please change the shape of y to (n_samples, ), for example using ravel().\n",
      "  y = column_or_1d(y, warn=True)\n"
     ]
    },
    {
     "name": "stdout",
     "output_type": "stream",
     "text": [
      "SVR: -0.018656708488146823\n",
      "RandomForestRegressor: 0.8508628387738572\n",
      "AdaBoostRegressor: 0.8420767286546216\n",
      "GradientBoostingRegressor: 0.8089135122600883\n",
      "LinearRegression: 0.5913007121351908\n",
      "DecisionTreeRegressor: 0.8193472326061778\n",
      "KNeighborsRegressor: 0.8420767286546216\n"
     ]
    }
   ],
   "source": [
    "modelSVR_apple = SVR().fit(x_apple_train, y_apple_train)\n",
    "modelRFR_apple = RandomForestRegressor().fit(x_apple_train, y_apple_train)\n",
    "modelABR_apple = AdaBoostRegressor().fit(x_apple_train, y_apple_train)\n",
    "modelGBR_apple = GradientBoostingRegressor().fit(x_apple_train, y_apple_train)\n",
    "modelLR_apple = LinearRegression(n_jobs=-1).fit(x_apple_train, y_apple_train)\n",
    "modelDTR_apple = DecisionTreeRegressor().fit(x_apple_train, y_apple_train)\n",
    "modelKNR_apple = KNeighborsRegressor(n_neighbors=3).fit(x_apple_train, y_apple_train)      \n",
    "\n",
    "print('SVR:', modelSVR_apple.score(x_apple_test, y_apple_test))\n",
    "print('RandomForestRegressor:', modelRFR_apple.score(x_apple_test, y_apple_test))\n",
    "print('AdaBoostRegressor:', modelKNR_apple.score(x_apple_test, y_apple_test))\n",
    "print('GradientBoostingRegressor:', modelGBR_apple.score(x_apple_test, y_apple_test))\n",
    "print('LinearRegression:', modelLR_apple.score(x_apple_test, y_apple_test))\n",
    "print('DecisionTreeRegressor:', modelDTR_apple.score(x_apple_test, y_apple_test))\n",
    "print('KNeighborsRegressor:', modelKNR_apple.score(x_apple_test, y_apple_test))"
   ]
  },
  {
   "cell_type": "code",
   "execution_count": 84,
   "metadata": {},
   "outputs": [],
   "source": [
    "df_reg_microsoft = df_microsoft.copy().loc[:, ['Adj Close', 'Volume']]\n",
    "df_reg_microsoft = df_reg_microsoft['2005-1-1':'2022-8-1']\n",
    "df_reg_microsoft = df_reg_microsoft.iloc[:,[1]].reset_index(drop=True)\n",
    "\n",
    "y_microsoft_volume = df_reg_microsoft.values\n",
    "\n",
    "x_microsoft_volume = df_reg_microsoft.index.values.reshape(-1, 1)\n",
    "\n",
    "x_microsoft_train, x_microsoft_test, y_microsoft_train, y_microsoft_test = train_test_split(x_microsoft_volume,y_microsoft_volume,\n",
    "                                                                            test_size=0.01,\n",
    "                                                                            random_state=15,\n",
    "                                                                            shuffle=True)\n",
    "                                                                       "
   ]
  },
  {
   "cell_type": "code",
   "execution_count": 85,
   "metadata": {},
   "outputs": [
    {
     "name": "stderr",
     "output_type": "stream",
     "text": [
      "c:\\Users\\ormosia5\\AppData\\Local\\Programs\\Python\\Python39\\lib\\site-packages\\sklearn\\utils\\validation.py:1111: DataConversionWarning: A column-vector y was passed when a 1d array was expected. Please change the shape of y to (n_samples, ), for example using ravel().\n",
      "  y = column_or_1d(y, warn=True)\n",
      "C:\\Users\\ormosia5\\AppData\\Local\\Temp\\ipykernel_49892\\3102763711.py:2: DataConversionWarning: A column-vector y was passed when a 1d array was expected. Please change the shape of y to (n_samples,), for example using ravel().\n",
      "  modelRFR_microsoft = RandomForestRegressor().fit(x_microsoft_train, y_microsoft_train)\n",
      "c:\\Users\\ormosia5\\AppData\\Local\\Programs\\Python\\Python39\\lib\\site-packages\\sklearn\\utils\\validation.py:1111: DataConversionWarning: A column-vector y was passed when a 1d array was expected. Please change the shape of y to (n_samples, ), for example using ravel().\n",
      "  y = column_or_1d(y, warn=True)\n",
      "c:\\Users\\ormosia5\\AppData\\Local\\Programs\\Python\\Python39\\lib\\site-packages\\sklearn\\ensemble\\_gb.py:570: DataConversionWarning: A column-vector y was passed when a 1d array was expected. Please change the shape of y to (n_samples, ), for example using ravel().\n",
      "  y = column_or_1d(y, warn=True)\n"
     ]
    },
    {
     "name": "stdout",
     "output_type": "stream",
     "text": [
      "SVR: -0.021702466832923095\n",
      "RandomForestRegressor: 0.6039254304311367\n",
      "AdaBoostRegressor: 0.589512985873782\n",
      "GradientBoostingRegressor: 0.3755183736230445\n",
      "LinearRegression: 0.3861038901097392\n",
      "DecisionTreeRegressor: 0.6076650183061737\n",
      "KNeighborsRegressor: 0.589512985873782\n"
     ]
    }
   ],
   "source": [
    "modelSVR_microsoft = SVR().fit(x_microsoft_train, y_microsoft_train)\n",
    "modelRFR_microsoft = RandomForestRegressor().fit(x_microsoft_train, y_microsoft_train)\n",
    "modelABR_microsoft = AdaBoostRegressor().fit(x_microsoft_train, y_microsoft_train)\n",
    "modelGBR_microsoft = GradientBoostingRegressor().fit(x_microsoft_train, y_microsoft_train)\n",
    "modelLR_microsoft = LinearRegression(n_jobs=-1).fit(x_microsoft_train, y_microsoft_train)\n",
    "modelDTR_microsoft = DecisionTreeRegressor().fit(x_microsoft_train, y_microsoft_train)\n",
    "modelKNR_microsoft = KNeighborsRegressor(n_neighbors=3).fit(x_microsoft_train, y_microsoft_train)      \n",
    "\n",
    "print('SVR:', modelSVR_microsoft.score(x_microsoft_test, y_microsoft_test))\n",
    "print('RandomForestRegressor:', modelRFR_microsoft.score(x_microsoft_test, y_microsoft_test))\n",
    "print('AdaBoostRegressor:', modelKNR_microsoft.score(x_microsoft_test, y_microsoft_test))\n",
    "print('GradientBoostingRegressor:', modelGBR_microsoft.score(x_microsoft_test, y_microsoft_test))\n",
    "print('LinearRegression:', modelLR_microsoft.score(x_microsoft_test, y_microsoft_test))\n",
    "print('DecisionTreeRegressor:', modelDTR_microsoft.score(x_microsoft_test, y_microsoft_test))\n",
    "print('KNeighborsRegressor:', modelKNR_microsoft.score(x_microsoft_test, y_microsoft_test))"
   ]
  },
  {
   "cell_type": "code",
   "execution_count": 86,
   "metadata": {},
   "outputs": [
    {
     "name": "stdout",
     "output_type": "stream",
     "text": [
      "[[   0]\n",
      " [   1]\n",
      " [   2]\n",
      " ...\n",
      " [4169]\n",
      " [4170]\n",
      " [4171]]\n",
      "[[   0]\n",
      " [   1]\n",
      " [   2]\n",
      " ...\n",
      " [4169]\n",
      " [4170]\n",
      " [4171]]\n"
     ]
    }
   ],
   "source": [
    "print(df_reg_apple.index.values.reshape(-1, 1)) # get total days\n",
    "print(df_reg_microsoft.index.values.reshape(-1, 1))"
   ]
  },
  {
   "cell_type": "code",
   "execution_count": 87,
   "metadata": {},
   "outputs": [
    {
     "data": {
      "text/plain": [
       "array([80259175., 69425749., 64971578., 64941274., 57205437., 56571166.,\n",
       "       74205681., 80580682., 91862234., 74254331., 74254331., 74254331.,\n",
       "       74254331., 74254331., 74254331., 74254331., 74254331., 74254331.,\n",
       "       74254331., 74254331., 74254331., 74254331., 74254331., 74254331.,\n",
       "       74254331., 74254331., 74254331., 74254331., 74254331., 74254331.])"
      ]
     },
     "execution_count": 87,
     "metadata": {},
     "output_type": "execute_result"
    }
   ],
   "source": [
    "# predict future 30 day volume from the day 4126 \n",
    "day = 30 \n",
    "x_pred = [[j+4162 for i in range(1)] for j in range(day)]\n",
    "\n",
    "y_pred = modelRFR_apple.predict(x_pred)\n",
    "y_pred"
   ]
  },
  {
   "cell_type": "code",
   "execution_count": 89,
   "metadata": {},
   "outputs": [
    {
     "data": {
      "text/plain": [
       "array([23861522., 23248553., 22532548., 22146395., 22969844., 34673838.,\n",
       "       41496631., 36100547., 31843973., 25595003., 25595003., 25595003.,\n",
       "       25595003., 25595003., 25595003., 25595003., 25595003., 25595003.,\n",
       "       25595003., 25595003., 25595003., 25595003., 25595003., 25595003.,\n",
       "       25595003., 25595003., 25595003., 25595003., 25595003., 25595003.])"
      ]
     },
     "execution_count": 89,
     "metadata": {},
     "output_type": "execute_result"
    }
   ],
   "source": [
    "day = 30\n",
    "x_pred = [[j+4162 for i in range(1)] for j in range(day)]\n",
    "\n",
    "y_pred = modelRFR_microsoft.predict(x_pred)\n",
    "y_pred"
   ]
  }
 ],
 "metadata": {
  "kernelspec": {
   "display_name": "Python 3.9.6 64-bit",
   "language": "python",
   "name": "python3"
  },
  "language_info": {
   "codemirror_mode": {
    "name": "ipython",
    "version": 3
   },
   "file_extension": ".py",
   "mimetype": "text/x-python",
   "name": "python",
   "nbconvert_exporter": "python",
   "pygments_lexer": "ipython3",
   "version": "3.9.6"
  },
  "orig_nbformat": 4,
  "vscode": {
   "interpreter": {
    "hash": "ca644f767359049ef8e4dc15f86528016a38c79bb130dff264b83b2229a6c23f"
   }
  }
 },
 "nbformat": 4,
 "nbformat_minor": 2
}
